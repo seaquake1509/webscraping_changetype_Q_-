{
 "cells": [
  {
   "cell_type": "code",
   "execution_count": 1,
   "metadata": {},
   "outputs": [],
   "source": [
    "import requests\n",
    "from lxml import html\n",
    "from datetime import datetime"
   ]
  },
  {
   "cell_type": "code",
   "execution_count": 2,
   "metadata": {},
   "outputs": [
    {
     "data": {
      "text/plain": [
       "<Response [200]>"
      ]
     },
     "execution_count": 2,
     "metadata": {},
     "output_type": "execute_result"
    }
   ],
   "source": [
    "url = 'https://www.banguat.gob.gt/tipo_cambio/'\n",
    "page = requests.get(url)\n",
    "page"
   ]
  },
  {
   "cell_type": "code",
   "execution_count": 3,
   "metadata": {},
   "outputs": [],
   "source": [
    "tree = html.fromstring(page.content)\n",
    "tree1 = html.fromstring(page.content)"
   ]
  },
  {
   "cell_type": "code",
   "execution_count": 4,
   "metadata": {},
   "outputs": [
    {
     "data": {
      "text/plain": [
       "['Tipo de Cambio de Referencia vigente para el  miércoles, 12 de octubre de 2022',\n",
       " 'Consulta de cuadros diarios (detalle)',\n",
       " 'Consulta de todos los tipos de cambios de una fecha',\n",
       " 'Consulta de una moneda específica en un rango de fechas',\n",
       " 'Otros servicios',\n",
       " '¿Qué es tipo de cambio de referencia?']"
      ]
     },
     "execution_count": 4,
     "metadata": {},
     "output_type": "execute_result"
    }
   ],
   "source": [
    "tree.xpath('//td/text()')\n",
    "tree1.xpath('//th/text()')"
   ]
  },
  {
   "cell_type": "code",
   "execution_count": 5,
   "metadata": {},
   "outputs": [
    {
     "data": {
      "text/plain": [
       "'Tipo de Cambio de Referencia vigente para el  miércoles, 12 de octubre de 2022'"
      ]
     },
     "execution_count": 5,
     "metadata": {},
     "output_type": "execute_result"
    }
   ],
   "source": [
    "usd = tree.xpath('//td/text()')\n",
    "descripcion=tree1.xpath('//th/text()')\n",
    "usd[0]\n",
    "descripcion[0]"
   ]
  },
  {
   "cell_type": "code",
   "execution_count": 6,
   "metadata": {},
   "outputs": [],
   "source": [
    "descripcion = descripcion[0]\n",
    "usd = float(usd[0])"
   ]
  },
  {
   "cell_type": "code",
   "execution_count": 7,
   "metadata": {},
   "outputs": [
    {
     "name": "stdout",
     "output_type": "stream",
     "text": [
      "2022-10-12\n",
      "7.8757\n",
      "Tipo de Cambio de Referencia vigente para el  miércoles, 12 de octubre de 2022\n"
     ]
    }
   ],
   "source": [
    "fecha = datetime.now().date()\n",
    "print(fecha)\n",
    "print(usd)\n",
    "print(descripcion)"
   ]
  }
 ],
 "metadata": {
  "kernelspec": {
   "display_name": "Python 3.9.12 ('base')",
   "language": "python",
   "name": "python3"
  },
  "language_info": {
   "codemirror_mode": {
    "name": "ipython",
    "version": 3
   },
   "file_extension": ".py",
   "mimetype": "text/x-python",
   "name": "python",
   "nbconvert_exporter": "python",
   "pygments_lexer": "ipython3",
   "version": "3.9.12"
  },
  "orig_nbformat": 4,
  "vscode": {
   "interpreter": {
    "hash": "fd679fb6da1f5481b4d65655e87e85ef3dfa427612bbeb7b63638a765938fcd5"
   }
  }
 },
 "nbformat": 4,
 "nbformat_minor": 2
}
